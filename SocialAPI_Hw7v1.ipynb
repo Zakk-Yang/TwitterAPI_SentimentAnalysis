{
 "cells": [
  {
   "cell_type": "code",
   "execution_count": 315,
   "metadata": {},
   "outputs": [
    {
     "name": "stdout",
     "output_type": "stream",
     "text": [
      "1\n",
      "2\n",
      "3\n",
      "4\n",
      "5\n"
     ]
    }
   ],
   "source": [
    "# Dependencies\n",
    "import json\n",
    "import tweepy\n",
    "import apikeys\n",
    "from vaderSentiment.vaderSentiment import SentimentIntensityAnalyzer\n",
    "analyzer = SentimentIntensityAnalyzer()\n",
    "import pandas as pd\n",
    "import seaborn as sns\n",
    "import matplotlib.pyplot as plt\n",
    "import numpy as np\n",
    "\n",
    "# Twitter API Keys\n",
    "consumer_key = apikeys.TWITTER_CONSUMER_KEY\n",
    "consumer_secret = apikeys.TWITTER_CONSUMER_SECRET\n",
    "access_token = apikeys.TWITTER_ACCESS_TOKEN\n",
    "access_token_secret = apikeys.TWITTER_ACCESS_TOKEN_SECRET\n",
    "\n",
    "# Setup Tweepy API Authentication\n",
    "auth = tweepy.OAuthHandler(consumer_key, consumer_secret)\n",
    "auth.set_access_token(access_token, access_token_secret)\n",
    "api = tweepy.API(auth, parser=tweepy.parsers.JSONParser())\n",
    "\n",
    "# Search Term\n",
    "target_users = ['nytimes', 'BBCWorld', 'CBSNews', 'CNN', 'FoxNews']\n",
    "\n",
    "outlet_tweet_dict = {}\n",
    "\n",
    "for each in target_users:\n",
    "    outlet_tweet_dict[each] = \"\"\n",
    "    tweet_text_values = []\n",
    "    for page_num in range(5):\n",
    "    \n",
    "        public_tweets = api.user_timeline(each, page=page_num)\n",
    "        #print(json.dumps(public_tweets, sort_keys=True, indent=4))\n",
    "\n",
    "        for tweet in public_tweets:\n",
    "            scores = analyzer.polarity_scores(tweet['text'])\n",
    "            #print(tweet[\"text\"])\n",
    "            tweet_text_values.append(scores['compound'])\n",
    "            \n",
    "    outlet_tweet_dict[each] = tweet_text_values\n",
    "    #print(len(tweet_texts))\n",
    "    print(len(outlet_tweet_dict))"
   ]
  },
  {
   "cell_type": "code",
   "execution_count": 316,
   "metadata": {},
   "outputs": [],
   "source": [
    "# for k,v in outlet_tweet_dict.items():\n",
    "#     blah = v[0]\n",
    "#     print(blah)\n",
    "#     break"
   ]
  },
  {
   "cell_type": "code",
   "execution_count": 317,
   "metadata": {},
   "outputs": [
    {
     "data": {
      "text/html": [
       "<div>\n",
       "<style>\n",
       "    .dataframe thead tr:only-child th {\n",
       "        text-align: right;\n",
       "    }\n",
       "\n",
       "    .dataframe thead th {\n",
       "        text-align: left;\n",
       "    }\n",
       "\n",
       "    .dataframe tbody tr th {\n",
       "        vertical-align: top;\n",
       "    }\n",
       "</style>\n",
       "<table border=\"1\" class=\"dataframe\">\n",
       "  <thead>\n",
       "    <tr style=\"text-align: right;\">\n",
       "      <th></th>\n",
       "      <th>BBCWorld</th>\n",
       "      <th>CBSNews</th>\n",
       "      <th>CNN</th>\n",
       "      <th>FoxNews</th>\n",
       "      <th>nytimes</th>\n",
       "    </tr>\n",
       "  </thead>\n",
       "  <tbody>\n",
       "    <tr>\n",
       "      <th>0</th>\n",
       "      <td>0.00</td>\n",
       "      <td>0.8360</td>\n",
       "      <td>0.00</td>\n",
       "      <td>0.3612</td>\n",
       "      <td>0.0000</td>\n",
       "    </tr>\n",
       "    <tr>\n",
       "      <th>1</th>\n",
       "      <td>0.00</td>\n",
       "      <td>0.0000</td>\n",
       "      <td>0.00</td>\n",
       "      <td>0.0000</td>\n",
       "      <td>0.0000</td>\n",
       "    </tr>\n",
       "    <tr>\n",
       "      <th>2</th>\n",
       "      <td>0.00</td>\n",
       "      <td>0.4927</td>\n",
       "      <td>0.00</td>\n",
       "      <td>-0.7126</td>\n",
       "      <td>0.6124</td>\n",
       "    </tr>\n",
       "    <tr>\n",
       "      <th>3</th>\n",
       "      <td>-0.34</td>\n",
       "      <td>0.0000</td>\n",
       "      <td>-0.25</td>\n",
       "      <td>0.0000</td>\n",
       "      <td>0.0000</td>\n",
       "    </tr>\n",
       "    <tr>\n",
       "      <th>4</th>\n",
       "      <td>-0.34</td>\n",
       "      <td>0.0000</td>\n",
       "      <td>0.00</td>\n",
       "      <td>-0.5267</td>\n",
       "      <td>0.0000</td>\n",
       "    </tr>\n",
       "  </tbody>\n",
       "</table>\n",
       "</div>"
      ],
      "text/plain": [
       "   BBCWorld  CBSNews   CNN  FoxNews  nytimes\n",
       "0      0.00   0.8360  0.00   0.3612   0.0000\n",
       "1      0.00   0.0000  0.00   0.0000   0.0000\n",
       "2      0.00   0.4927  0.00  -0.7126   0.6124\n",
       "3     -0.34   0.0000 -0.25   0.0000   0.0000\n",
       "4     -0.34   0.0000  0.00  -0.5267   0.0000"
      ]
     },
     "execution_count": 317,
     "metadata": {},
     "output_type": "execute_result"
    }
   ],
   "source": [
    "outlet_tweet_dict_df = pd.DataFrame(outlet_tweet_dict)\n",
    "outlet_tweet_dict_df.head()"
   ]
  },
  {
   "cell_type": "code",
   "execution_count": 318,
   "metadata": {},
   "outputs": [
    {
     "data": {
      "text/html": [
       "<div>\n",
       "<style>\n",
       "    .dataframe thead tr:only-child th {\n",
       "        text-align: right;\n",
       "    }\n",
       "\n",
       "    .dataframe thead th {\n",
       "        text-align: left;\n",
       "    }\n",
       "\n",
       "    .dataframe tbody tr th {\n",
       "        vertical-align: top;\n",
       "    }\n",
       "</style>\n",
       "<table border=\"1\" class=\"dataframe\">\n",
       "  <thead>\n",
       "    <tr style=\"text-align: right;\">\n",
       "      <th></th>\n",
       "      <th>index</th>\n",
       "      <th>BBCWorld</th>\n",
       "      <th>CBSNews</th>\n",
       "      <th>CNN</th>\n",
       "      <th>FoxNews</th>\n",
       "      <th>nytimes</th>\n",
       "    </tr>\n",
       "  </thead>\n",
       "  <tbody>\n",
       "    <tr>\n",
       "      <th>0</th>\n",
       "      <td>99</td>\n",
       "      <td>0.3400</td>\n",
       "      <td>0.0772</td>\n",
       "      <td>0.3400</td>\n",
       "      <td>0.0258</td>\n",
       "      <td>-0.0772</td>\n",
       "    </tr>\n",
       "    <tr>\n",
       "      <th>1</th>\n",
       "      <td>98</td>\n",
       "      <td>-0.5859</td>\n",
       "      <td>0.0000</td>\n",
       "      <td>-0.3182</td>\n",
       "      <td>0.3034</td>\n",
       "      <td>-0.7964</td>\n",
       "    </tr>\n",
       "    <tr>\n",
       "      <th>2</th>\n",
       "      <td>97</td>\n",
       "      <td>-0.6597</td>\n",
       "      <td>0.0000</td>\n",
       "      <td>0.4019</td>\n",
       "      <td>0.0000</td>\n",
       "      <td>0.4019</td>\n",
       "    </tr>\n",
       "    <tr>\n",
       "      <th>3</th>\n",
       "      <td>96</td>\n",
       "      <td>0.0000</td>\n",
       "      <td>-0.7351</td>\n",
       "      <td>0.0000</td>\n",
       "      <td>-0.3182</td>\n",
       "      <td>-0.5994</td>\n",
       "    </tr>\n",
       "    <tr>\n",
       "      <th>4</th>\n",
       "      <td>95</td>\n",
       "      <td>0.3182</td>\n",
       "      <td>-0.5106</td>\n",
       "      <td>0.3818</td>\n",
       "      <td>0.0000</td>\n",
       "      <td>-0.5574</td>\n",
       "    </tr>\n",
       "  </tbody>\n",
       "</table>\n",
       "</div>"
      ],
      "text/plain": [
       "   index  BBCWorld  CBSNews     CNN  FoxNews  nytimes\n",
       "0     99    0.3400   0.0772  0.3400   0.0258  -0.0772\n",
       "1     98   -0.5859   0.0000 -0.3182   0.3034  -0.7964\n",
       "2     97   -0.6597   0.0000  0.4019   0.0000   0.4019\n",
       "3     96    0.0000  -0.7351  0.0000  -0.3182  -0.5994\n",
       "4     95    0.3182  -0.5106  0.3818   0.0000  -0.5574"
      ]
     },
     "execution_count": 318,
     "metadata": {},
     "output_type": "execute_result"
    }
   ],
   "source": [
    "outlet_rev_df = outlet_tweet_dict_df.iloc[::-1].reset_index()\n",
    "outlet_rev_df.head()"
   ]
  },
  {
   "cell_type": "code",
   "execution_count": 319,
   "metadata": {
    "collapsed": true
   },
   "outputs": [],
   "source": [
    "# plt.scatter(outlet_rev['index'], outlet_rev['BBCWorld'], marker=\"o\", \n",
    "#             facecolors=\"red\", edgecolors=\"black\", alpha=0.95, s=30)"
   ]
  },
  {
   "cell_type": "code",
   "execution_count": 320,
   "metadata": {},
   "outputs": [
    {
     "data": {
      "image/png": "[encoded data removed]",
      "text/plain": [
       "<matplotlib.figure.Figure at 0x2712f868d30>"
      ]
     },
     "metadata": {},
     "output_type": "display_data"
    }
   ],
   "source": [
    "\n",
    "fig, ax1 = plt.subplots(1, sharex=True, sharey= True)\n",
    "fig.suptitle(\"Tweets from News agencies\", fontsize=16,\n",
    "             fontweight=\"bold\")\n",
    "\n",
    "ax1.set_xlim(max(outlet_rev_df['index'])+10, min(outlet_rev_df['index'])-10, 10)\n",
    "ax1.scatter(outlet_rev_df['index'], outlet_rev_df['BBCWorld'], marker=\"o\", s=25)\n",
    "ax1.scatter(outlet_rev_df['index'], outlet_rev_df['CBSNews'], marker='^', s=25)\n",
    "ax1.scatter(outlet_rev_df['index'], outlet_rev_df['CNN'], marker=\"v\", s=25)\n",
    "ax1.scatter(outlet_rev_df['index'], outlet_rev_df['FoxNews'], marker='h', s=25)\n",
    "ax1.scatter(outlet_rev_df['index'], outlet_rev_df['nytimes'], marker='h', s=25)\n",
    "ax1.set_ylabel(\"Compound Sentiment\")\n",
    "ax1.set_xlabel(\"Tweets Ago\")\n",
    "plt.legend(bbox_to_anchor=(1.005, 1), loc='upper left', ncol=1)\n",
    "#plt.legend()\n",
    "#plt.xticks(range(len(outlet_rev['index'])), outlet_rev['index'])\n",
    "plt.show()\n"
   ]
  },
  {
   "cell_type": "code",
   "execution_count": 321,
   "metadata": {},
   "outputs": [],
   "source": [
    "outlet_compound_total = {}\n",
    "outlet_compound_total_list = []\n",
    "for outlet in outlet_tweet_dict:\n",
    "    outlet_compound_total[outlet] = [sum(outlet_tweet_dict[outlet])]\n",
    "    outlet_compound_total_list.append(sum(outlet_tweet_dict[outlet]))\n",
    "#print(outlet_compound_total)\n",
    "#print(outlet_compound_total_list)"
   ]
  },
  {
   "cell_type": "code",
   "execution_count": 322,
   "metadata": {},
   "outputs": [
    {
     "data": {
      "text/html": [
       "<div>\n",
       "<style>\n",
       "    .dataframe thead tr:only-child th {\n",
       "        text-align: right;\n",
       "    }\n",
       "\n",
       "    .dataframe thead th {\n",
       "        text-align: left;\n",
       "    }\n",
       "\n",
       "    .dataframe tbody tr th {\n",
       "        vertical-align: top;\n",
       "    }\n",
       "</style>\n",
       "<table border=\"1\" class=\"dataframe\">\n",
       "  <thead>\n",
       "    <tr style=\"text-align: right;\">\n",
       "      <th></th>\n",
       "      <th>BBCWorld</th>\n",
       "      <th>CBSNews</th>\n",
       "      <th>CNN</th>\n",
       "      <th>FoxNews</th>\n",
       "      <th>nytimes</th>\n",
       "    </tr>\n",
       "  </thead>\n",
       "  <tbody>\n",
       "    <tr>\n",
       "      <th>0</th>\n",
       "      <td>-13.386</td>\n",
       "      <td>4.3128</td>\n",
       "      <td>-5.1273</td>\n",
       "      <td>-11.4011</td>\n",
       "      <td>-0.7369</td>\n",
       "    </tr>\n",
       "  </tbody>\n",
       "</table>\n",
       "</div>"
      ],
      "text/plain": [
       "   BBCWorld  CBSNews     CNN  FoxNews  nytimes\n",
       "0   -13.386   4.3128 -5.1273 -11.4011  -0.7369"
      ]
     },
     "execution_count": 322,
     "metadata": {},
     "output_type": "execute_result"
    }
   ],
   "source": [
    "outlet_compound_df = pd.DataFrame(outlet_compound_total)\n",
    "outlet_compound_df"
   ]
  },
  {
   "cell_type": "code",
   "execution_count": 323,
   "metadata": {},
   "outputs": [
    {
     "data": {
      "text/html": [
       "<div>\n",
       "<style>\n",
       "    .dataframe thead tr:only-child th {\n",
       "        text-align: right;\n",
       "    }\n",
       "\n",
       "    .dataframe thead th {\n",
       "        text-align: left;\n",
       "    }\n",
       "\n",
       "    .dataframe tbody tr th {\n",
       "        vertical-align: top;\n",
       "    }\n",
       "</style>\n",
       "<table border=\"1\" class=\"dataframe\">\n",
       "  <thead>\n",
       "    <tr style=\"text-align: right;\">\n",
       "      <th></th>\n",
       "      <th>Outlets</th>\n",
       "      <th>Compound Sentiment Total</th>\n",
       "    </tr>\n",
       "  </thead>\n",
       "  <tbody>\n",
       "    <tr>\n",
       "      <th>0</th>\n",
       "      <td>BBCWorld</td>\n",
       "      <td>-13.3860</td>\n",
       "    </tr>\n",
       "    <tr>\n",
       "      <th>1</th>\n",
       "      <td>CBSNews</td>\n",
       "      <td>4.3128</td>\n",
       "    </tr>\n",
       "    <tr>\n",
       "      <th>2</th>\n",
       "      <td>CNN</td>\n",
       "      <td>-5.1273</td>\n",
       "    </tr>\n",
       "    <tr>\n",
       "      <th>3</th>\n",
       "      <td>FoxNews</td>\n",
       "      <td>-11.4011</td>\n",
       "    </tr>\n",
       "    <tr>\n",
       "      <th>4</th>\n",
       "      <td>nytimes</td>\n",
       "      <td>-0.7369</td>\n",
       "    </tr>\n",
       "  </tbody>\n",
       "</table>\n",
       "</div>"
      ],
      "text/plain": [
       "    Outlets  Compound Sentiment Total\n",
       "0  BBCWorld                  -13.3860\n",
       "1   CBSNews                    4.3128\n",
       "2       CNN                   -5.1273\n",
       "3   FoxNews                  -11.4011\n",
       "4   nytimes                   -0.7369"
      ]
     },
     "execution_count": 323,
     "metadata": {},
     "output_type": "execute_result"
    }
   ],
   "source": [
    "outlet_compound_trans = outlet_compound_df.transpose().rename(columns={0:\"Compound Sentiment Total\"}).reset_index().rename(columns={\"index\":\"Outlets\"})\n",
    "outlet_compound_trans"
   ]
  },
  {
   "cell_type": "code",
   "execution_count": 324,
   "metadata": {},
   "outputs": [],
   "source": [
    "# outlet_bar_chart = outlet_compound_trans.plot(kind=\"bar\", color=[\"b\",\"g\",'r'])\n",
    "# outlet_bar_chart.set_title(\"Outlet Compound Sentiment Totals\")\n",
    "# outlet_bar_chart.set_xlabel(\"News Outlets\")\n",
    "# outlet_bar_chart.set_ylabel(\"Compound Sentiment Totals\")\n",
    "# plt.show()"
   ]
  },
  {
   "cell_type": "code",
   "execution_count": 325,
   "metadata": {},
   "outputs": [
    {
     "data": {
      "image/png": "[encoded data removed]",
      "text/plain": [
       "<matplotlib.figure.Figure at 0x2712f868dd8>"
      ]
     },
     "metadata": {},
     "output_type": "display_data"
    }
   ],
   "source": [
    "\n",
    "x_values = np.arange(len(target_users))\n",
    "y_values = outlet_compound_trans['Compound Sentiment Total']\n",
    "plt.bar(x_values, y_values, color='b''g''r''y''c', alpha=.8, tick_label=outlet_compound_trans['Outlets'])\n",
    "plt.title(\"Outlet Twitter Sentiments\")\n",
    "plt.xlabel(\"Outlets\")\n",
    "plt.ylabel(\"Compound Sentiments\")\n",
    "plt.show()"
   ]
  },
  {
   "cell_type": "code",
   "execution_count": null,
   "metadata": {
    "collapsed": true
   },
   "outputs": [],
   "source": []
  }
 ],
 "metadata": {
  "kernelspec": {
   "display_name": "Python [conda env:PythonData]",
   "language": "python",
   "name": "conda-env-PythonData-py"
  },
  "language_info": {
   "codemirror_mode": {
    "name": "ipython",
    "version": 3
   },
   "file_extension": ".py",
   "mimetype": "text/x-python",
   "name": "python",
   "nbconvert_exporter": "python",
   "pygments_lexer": "ipython3",
   "version": "3.6.1"
  }
 },
 "nbformat": 4,
 "nbformat_minor": 2
}
