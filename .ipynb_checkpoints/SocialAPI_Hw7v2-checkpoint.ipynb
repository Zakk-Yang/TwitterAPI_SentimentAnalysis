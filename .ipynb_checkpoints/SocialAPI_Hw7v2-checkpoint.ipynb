{
 "cells": [
  {
   "cell_type": "markdown",
   "metadata": {},
   "source": [
    "### Setting up dependencies and keys"
   ]
  },
  {
   "cell_type": "markdown",
   "metadata": {},
   "source": [
    "#### Analysis #1:\n",
    "Base on the bar charge of the total VADER sentiments of the 5 news outlets, it would seem that the news is mostly negative sentiments.  Big news of the day are the fires in Southern California and the political unrest in Palestine/Israel with Trump recognizing Jerusalem to be the capital of Israel.  Hence the protects and the military buildup along the borders.  All the tweets about wars and fires would cause the sentiments of these outlets to be mostly negative."
   ]
  },
  {
   "cell_type": "markdown",
   "metadata": {},
   "source": [
    "#### Analysis #2:\n",
    "While most outlets are negative, NY Times appear to be overwhelmingly positive.  I would guess that this is because they are not reporting the bad news of the day.  Possibly as a strategy to compete against the other outlets.  While the other outlets are reporting negative news, NYT is probably hoping that with the holidays, people will pay more attention of NYT news outlets for the good news.  This relates to Nash equilibrium, a theory developed by the Nobel Prize winner of Economics.  The theory is basically rationalizing the expected payoff of a decision, in this case, there are 4 news outlets trying to capitalize on bad news, which would result in a division of payoff by 4, whereas the payoff of good news would be owned by one network only (NYT).  Which would make the payoff for good news much more.  Hence, in Economics, it is stated as a 'Nash Equilibrium\"."
   ]
  },
  {
   "cell_type": "markdown",
   "metadata": {},
   "source": [
    "#### Analysis #3:\n",
    "The scatter plot shows that a majority of the tweets are neutral.  As with most reporting, they generally stay neutral for the most part, or at least they should exhibit some level of impartiality and report just the facts.  But I would be interested in the ad revenues relative to the positive and negative news.  I would maybe run a data collection over time, and chart the movements of the sentiment relative to the viewership/ad revenues.  Maybe there would be a correlation between the news sentiments and revenues.\n"
   ]
  },
  {
   "cell_type": "code",
   "execution_count": 11,
   "metadata": {
    "collapsed": true
   },
   "outputs": [],
   "source": [
    "# Dependencies\n",
    "import json\n",
    "import tweepy\n",
    "import apikeys\n",
    "from vaderSentiment.vaderSentiment import SentimentIntensityAnalyzer\n",
    "analyzer = SentimentIntensityAnalyzer()\n",
    "import pandas as pd\n",
    "import seaborn as sns\n",
    "import matplotlib.pyplot as plt\n",
    "import numpy as np\n",
    "import os\n",
    "\n",
    "# Twitter API Keys\n",
    "consumer_key = apikeys.TWITTER_CONSUMER_KEY\n",
    "consumer_secret = apikeys.TWITTER_CONSUMER_SECRET\n",
    "access_token = apikeys.TWITTER_ACCESS_TOKEN\n",
    "access_token_secret = apikeys.TWITTER_ACCESS_TOKEN_SECRET\n",
    "\n",
    "# Setup Tweepy API Authentication\n",
    "auth = tweepy.OAuthHandler(consumer_key, consumer_secret)\n",
    "auth.set_access_token(access_token, access_token_secret)\n",
    "api = tweepy.API(auth, parser=tweepy.parsers.JSONParser())\n"
   ]
  },
  {
   "cell_type": "markdown",
   "metadata": {},
   "source": [
    "### Calling Twitter API for tweets by outlets\n",
    "Setup the target users (news outlet handles) into a list.  Then declared a dictionary to store each of the 100 sentiments into respective news outlet names.  Procede looping through the target users: set the key (target user name) AND set another list to hold all of the tweet sentiment values.  Set up another loop to loop through each page of 20 tweets, total of 5 pages.  Within each page, pull each tweet info, then pull each tweet['text'], analyze via VADER, then append that data to the list holding all of the tweet sentiment values (tweet_text_values).  After all the values from the pages have been analyzed, then the list is stored into the dictionary under the appropriate key holding the outlet agency.  List of values is then cleared again, to be used on the next agency."
   ]
  },
  {
   "cell_type": "code",
   "execution_count": 12,
   "metadata": {},
   "outputs": [
    {
     "name": "stdout",
     "output_type": "stream",
     "text": [
      "Successful\n"
     ]
    }
   ],
   "source": [
    "target_users = ['nytimes', 'BBCWorld', 'CBSNews', 'CNN', 'FoxNews']\n",
    "\n",
    "outlet_tweet_dict = {}\n",
    "\n",
    "for each in target_users:\n",
    "    outlet_tweet_dict[each] = \"\"\n",
    "    tweet_text_values = []\n",
    "    for page_num in range(5):\n",
    "    \n",
    "        public_tweets = api.user_timeline(each, page=page_num)\n",
    "        #print(json.dumps(public_tweets, sort_keys=True, indent=4))\n",
    "\n",
    "        for tweet in public_tweets:\n",
    "            scores = analyzer.polarity_scores(tweet['text'])\n",
    "            #print(tweet[\"text\"])\n",
    "            tweet_text_values.append(scores['compound'])\n",
    "            \n",
    "    outlet_tweet_dict[each] = tweet_text_values\n",
    "    #print(len(tweet_texts))\n",
    "    #print(len(outlet_tweet_dict))\n",
    "print(\"Successful\")"
   ]
  },
  {
   "cell_type": "code",
   "execution_count": 13,
   "metadata": {},
   "outputs": [
    {
     "data": {
      "text/html": [
       "<div>\n",
       "<style>\n",
       "    .dataframe thead tr:only-child th {\n",
       "        text-align: right;\n",
       "    }\n",
       "\n",
       "    .dataframe thead th {\n",
       "        text-align: left;\n",
       "    }\n",
       "\n",
       "    .dataframe tbody tr th {\n",
       "        vertical-align: top;\n",
       "    }\n",
       "</style>\n",
       "<table border=\"1\" class=\"dataframe\">\n",
       "  <thead>\n",
       "    <tr style=\"text-align: right;\">\n",
       "      <th></th>\n",
       "      <th>BBCWorld</th>\n",
       "      <th>CBSNews</th>\n",
       "      <th>CNN</th>\n",
       "      <th>FoxNews</th>\n",
       "      <th>nytimes</th>\n",
       "    </tr>\n",
       "  </thead>\n",
       "  <tbody>\n",
       "    <tr>\n",
       "      <th>0</th>\n",
       "      <td>0.0000</td>\n",
       "      <td>0.4215</td>\n",
       "      <td>0.0000</td>\n",
       "      <td>0.0000</td>\n",
       "      <td>0.0000</td>\n",
       "    </tr>\n",
       "    <tr>\n",
       "      <th>1</th>\n",
       "      <td>0.0000</td>\n",
       "      <td>0.0000</td>\n",
       "      <td>0.0000</td>\n",
       "      <td>-0.3582</td>\n",
       "      <td>-0.5106</td>\n",
       "    </tr>\n",
       "    <tr>\n",
       "      <th>2</th>\n",
       "      <td>-0.4767</td>\n",
       "      <td>-0.6369</td>\n",
       "      <td>-0.6124</td>\n",
       "      <td>0.6808</td>\n",
       "      <td>0.0000</td>\n",
       "    </tr>\n",
       "    <tr>\n",
       "      <th>3</th>\n",
       "      <td>0.0000</td>\n",
       "      <td>0.0000</td>\n",
       "      <td>0.0000</td>\n",
       "      <td>0.3400</td>\n",
       "      <td>0.0000</td>\n",
       "    </tr>\n",
       "    <tr>\n",
       "      <th>4</th>\n",
       "      <td>0.0000</td>\n",
       "      <td>0.3612</td>\n",
       "      <td>-0.5423</td>\n",
       "      <td>0.4939</td>\n",
       "      <td>0.7508</td>\n",
       "    </tr>\n",
       "  </tbody>\n",
       "</table>\n",
       "</div>"
      ],
      "text/plain": [
       "   BBCWorld  CBSNews     CNN  FoxNews  nytimes\n",
       "0    0.0000   0.4215  0.0000   0.0000   0.0000\n",
       "1    0.0000   0.0000  0.0000  -0.3582  -0.5106\n",
       "2   -0.4767  -0.6369 -0.6124   0.6808   0.0000\n",
       "3    0.0000   0.0000  0.0000   0.3400   0.0000\n",
       "4    0.0000   0.3612 -0.5423   0.4939   0.7508"
      ]
     },
     "execution_count": 13,
     "metadata": {},
     "output_type": "execute_result"
    }
   ],
   "source": [
    "# We have a dictionary of lists, so we can now set up a dataframe\n",
    "\n",
    "outlet_tweet_dict_df = pd.DataFrame(outlet_tweet_dict)\n",
    "outlet_tweet_dict_df.head()"
   ]
  },
  {
   "cell_type": "code",
   "execution_count": 14,
   "metadata": {},
   "outputs": [
    {
     "data": {
      "text/html": [
       "<div>\n",
       "<style>\n",
       "    .dataframe thead tr:only-child th {\n",
       "        text-align: right;\n",
       "    }\n",
       "\n",
       "    .dataframe thead th {\n",
       "        text-align: left;\n",
       "    }\n",
       "\n",
       "    .dataframe tbody tr th {\n",
       "        vertical-align: top;\n",
       "    }\n",
       "</style>\n",
       "<table border=\"1\" class=\"dataframe\">\n",
       "  <thead>\n",
       "    <tr style=\"text-align: right;\">\n",
       "      <th></th>\n",
       "      <th>index</th>\n",
       "      <th>BBCWorld</th>\n",
       "      <th>CBSNews</th>\n",
       "      <th>CNN</th>\n",
       "      <th>FoxNews</th>\n",
       "      <th>nytimes</th>\n",
       "    </tr>\n",
       "  </thead>\n",
       "  <tbody>\n",
       "    <tr>\n",
       "      <th>0</th>\n",
       "      <td>99</td>\n",
       "      <td>0.0000</td>\n",
       "      <td>0.0000</td>\n",
       "      <td>0.1779</td>\n",
       "      <td>0.0000</td>\n",
       "      <td>0.6369</td>\n",
       "    </tr>\n",
       "    <tr>\n",
       "      <th>1</th>\n",
       "      <td>98</td>\n",
       "      <td>0.0000</td>\n",
       "      <td>0.0000</td>\n",
       "      <td>0.0000</td>\n",
       "      <td>0.4019</td>\n",
       "      <td>0.0000</td>\n",
       "    </tr>\n",
       "    <tr>\n",
       "      <th>2</th>\n",
       "      <td>97</td>\n",
       "      <td>-0.7906</td>\n",
       "      <td>-0.2960</td>\n",
       "      <td>0.0000</td>\n",
       "      <td>0.6808</td>\n",
       "      <td>0.4310</td>\n",
       "    </tr>\n",
       "    <tr>\n",
       "      <th>3</th>\n",
       "      <td>96</td>\n",
       "      <td>-0.8225</td>\n",
       "      <td>0.2023</td>\n",
       "      <td>0.4939</td>\n",
       "      <td>0.0000</td>\n",
       "      <td>0.4404</td>\n",
       "    </tr>\n",
       "    <tr>\n",
       "      <th>4</th>\n",
       "      <td>95</td>\n",
       "      <td>0.0000</td>\n",
       "      <td>-0.5994</td>\n",
       "      <td>-0.3400</td>\n",
       "      <td>0.1027</td>\n",
       "      <td>-0.5423</td>\n",
       "    </tr>\n",
       "  </tbody>\n",
       "</table>\n",
       "</div>"
      ],
      "text/plain": [
       "   index  BBCWorld  CBSNews     CNN  FoxNews  nytimes\n",
       "0     99    0.0000   0.0000  0.1779   0.0000   0.6369\n",
       "1     98    0.0000   0.0000  0.0000   0.4019   0.0000\n",
       "2     97   -0.7906  -0.2960  0.0000   0.6808   0.4310\n",
       "3     96   -0.8225   0.2023  0.4939   0.0000   0.4404\n",
       "4     95    0.0000  -0.5994 -0.3400   0.1027  -0.5423"
      ]
     },
     "execution_count": 14,
     "metadata": {},
     "output_type": "execute_result"
    }
   ],
   "source": [
    "# The dataframe created, STARTS AT THE LATEST TWEET, hence when plotted, it will go from recent to past (in index order).\n",
    "# We need the data to go from past to recent, hence the dataframe MUST be inverted indexing.  So the invert happens after the\n",
    "# iloc, then the dataframe is reset with a new index to be iterated, and an old index for the labels.\n",
    "\n",
    "outlet_rev_df = outlet_tweet_dict_df.iloc[::-1].reset_index()\n",
    "outlet_rev_df.head()"
   ]
  },
  {
   "cell_type": "code",
   "execution_count": 15,
   "metadata": {},
   "outputs": [],
   "source": [
    "output = os.path.join('SocialAPI_Complete_List.csv')\n",
    "outlet_rev_df.to_csv(output, header=True)\n",
    "\n",
    "# plt.scatter(outlet_rev['index'], outlet_rev['BBCWorld'], marker=\"o\", \n",
    "#             facecolors=\"red\", edgecolors=\"black\", alpha=0.95, s=30)"
   ]
  },
  {
   "cell_type": "code",
   "execution_count": 22,
   "metadata": {},
   "outputs": [
    {
     "data": {
      "image/png": "[encoded data removed]",
      "text/plain": [
       "<matplotlib.figure.Figure at 0x24ee39daef0>"
      ]
     },
     "metadata": {},
     "output_type": "display_data"
    }
   ],
   "source": [
    "# Setting up the scatter plot using the SAME table.  Using subplots, the chart is defined and stored into a variable 'ax1'\n",
    "# then the chart ax1 is plotted in reference to each news outlet.\n",
    "\n",
    "fig, ax1 = plt.subplots(1, sharex=True, sharey= True)\n",
    "fig.suptitle(\"Tweets from News agencies 12/9/17\", fontsize=16,\n",
    "             fontweight=\"bold\")\n",
    "\n",
    "ax1.set_xlim(max(outlet_rev_df['index'])+10, min(outlet_rev_df['index'])-10, 10)\n",
    "ax1.scatter(outlet_rev_df['index'], outlet_rev_df['BBCWorld'], marker=\"o\", s=25)\n",
    "ax1.scatter(outlet_rev_df['index'], outlet_rev_df['CBSNews'], marker='^', s=25)\n",
    "ax1.scatter(outlet_rev_df['index'], outlet_rev_df['CNN'], marker=\"v\", s=25)\n",
    "ax1.scatter(outlet_rev_df['index'], outlet_rev_df['FoxNews'], marker='h', s=25)\n",
    "ax1.scatter(outlet_rev_df['index'], outlet_rev_df['nytimes'], marker='h', s=25)\n",
    "ax1.set_ylabel(\"Compound Sentiment\")\n",
    "ax1.set_xlabel(\"Tweets Ago\")\n",
    "plt.legend(bbox_to_anchor=(1.005, 1), loc='upper left', ncol=1)\n",
    "#plt.xticks(range(len(outlet_rev['index'])), outlet_rev['index'])\n",
    "plt.savefig(\"SocialAPI_ScatterPlot.png\")\n",
    "plt.show()\n"
   ]
  },
  {
   "cell_type": "markdown",
   "metadata": {},
   "source": [
    "### Creating bar chart\n",
    "A dictionary is creating to store the keys (agency names) and the sum of the sentiments (value).  Later this is used to create a dataframe and ultimately bar graphed."
   ]
  },
  {
   "cell_type": "code",
   "execution_count": 17,
   "metadata": {
    "collapsed": true
   },
   "outputs": [],
   "source": [
    "outlet_compound_total = {}\n",
    "\n",
    "for outlet in outlet_tweet_dict:\n",
    "    #Appending list (sum) to dictionary key, so the dictionary key will have an associated list\n",
    "    outlet_compound_total[outlet] = [sum(outlet_tweet_dict[outlet])]\n",
    "#print(outlet_compound_total)\n",
    "#print(outlet_compound_total_list)"
   ]
  },
  {
   "cell_type": "code",
   "execution_count": 18,
   "metadata": {},
   "outputs": [
    {
     "data": {
      "text/html": [
       "<div>\n",
       "<style>\n",
       "    .dataframe thead tr:only-child th {\n",
       "        text-align: right;\n",
       "    }\n",
       "\n",
       "    .dataframe thead th {\n",
       "        text-align: left;\n",
       "    }\n",
       "\n",
       "    .dataframe tbody tr th {\n",
       "        vertical-align: top;\n",
       "    }\n",
       "</style>\n",
       "<table border=\"1\" class=\"dataframe\">\n",
       "  <thead>\n",
       "    <tr style=\"text-align: right;\">\n",
       "      <th></th>\n",
       "      <th>BBCWorld</th>\n",
       "      <th>CBSNews</th>\n",
       "      <th>CNN</th>\n",
       "      <th>FoxNews</th>\n",
       "      <th>nytimes</th>\n",
       "    </tr>\n",
       "  </thead>\n",
       "  <tbody>\n",
       "    <tr>\n",
       "      <th>0</th>\n",
       "      <td>-18.3135</td>\n",
       "      <td>-8.011</td>\n",
       "      <td>-11.9613</td>\n",
       "      <td>1.0429</td>\n",
       "      <td>10.3099</td>\n",
       "    </tr>\n",
       "  </tbody>\n",
       "</table>\n",
       "</div>"
      ],
      "text/plain": [
       "   BBCWorld  CBSNews      CNN  FoxNews  nytimes\n",
       "0  -18.3135   -8.011 -11.9613   1.0429  10.3099"
      ]
     },
     "execution_count": 18,
     "metadata": {},
     "output_type": "execute_result"
    }
   ],
   "source": [
    "outlet_compound_df = pd.DataFrame(outlet_compound_total)\n",
    "outlet_compound_df"
   ]
  },
  {
   "cell_type": "code",
   "execution_count": 19,
   "metadata": {},
   "outputs": [
    {
     "data": {
      "text/html": [
       "<div>\n",
       "<style>\n",
       "    .dataframe thead tr:only-child th {\n",
       "        text-align: right;\n",
       "    }\n",
       "\n",
       "    .dataframe thead th {\n",
       "        text-align: left;\n",
       "    }\n",
       "\n",
       "    .dataframe tbody tr th {\n",
       "        vertical-align: top;\n",
       "    }\n",
       "</style>\n",
       "<table border=\"1\" class=\"dataframe\">\n",
       "  <thead>\n",
       "    <tr style=\"text-align: right;\">\n",
       "      <th></th>\n",
       "      <th>Outlets</th>\n",
       "      <th>Compound Sentiment Total</th>\n",
       "    </tr>\n",
       "  </thead>\n",
       "  <tbody>\n",
       "    <tr>\n",
       "      <th>0</th>\n",
       "      <td>BBCWorld</td>\n",
       "      <td>-18.3135</td>\n",
       "    </tr>\n",
       "    <tr>\n",
       "      <th>1</th>\n",
       "      <td>CBSNews</td>\n",
       "      <td>-8.0110</td>\n",
       "    </tr>\n",
       "    <tr>\n",
       "      <th>2</th>\n",
       "      <td>CNN</td>\n",
       "      <td>-11.9613</td>\n",
       "    </tr>\n",
       "    <tr>\n",
       "      <th>3</th>\n",
       "      <td>FoxNews</td>\n",
       "      <td>1.0429</td>\n",
       "    </tr>\n",
       "    <tr>\n",
       "      <th>4</th>\n",
       "      <td>nytimes</td>\n",
       "      <td>10.3099</td>\n",
       "    </tr>\n",
       "  </tbody>\n",
       "</table>\n",
       "</div>"
      ],
      "text/plain": [
       "    Outlets  Compound Sentiment Total\n",
       "0  BBCWorld                  -18.3135\n",
       "1   CBSNews                   -8.0110\n",
       "2       CNN                  -11.9613\n",
       "3   FoxNews                    1.0429\n",
       "4   nytimes                   10.3099"
      ]
     },
     "execution_count": 19,
     "metadata": {},
     "output_type": "execute_result"
    }
   ],
   "source": [
    "# Need to transpose the data (turning columns to rows), otherwise, numpy will lump all of the news agencies into the\n",
    "# one label (the 0 index, as the one label).  Index is then reset, so a dataseries can be created using\n",
    "# outlet_compound_df['Outlets']\n",
    "\n",
    "outlet_compound_trans = outlet_compound_df.transpose().rename(columns={0:\"Compound Sentiment Total\"}).reset_index().rename(columns={\"index\":\"Outlets\"})\n",
    "outlet_compound_trans"
   ]
  },
  {
   "cell_type": "code",
   "execution_count": 20,
   "metadata": {},
   "outputs": [],
   "source": [
    "output = os.path.join('SocialAPI_BarDF.csv')\n",
    "outlet_compound_trans.to_csv(output, header=True)\n",
    "\n",
    "# outlet_bar_chart = outlet_compound_trans.plot(kind=\"bar\", color=[\"b\",\"g\",'r'])\n",
    "# outlet_bar_chart.set_title(\"Outlet Compound Sentiment Totals\")\n",
    "# outlet_bar_chart.set_xlabel(\"News Outlets\")\n",
    "# outlet_bar_chart.set_ylabel(\"Compound Sentiment Totals\")\n",
    "# plt.show()"
   ]
  },
  {
   "cell_type": "code",
   "execution_count": 23,
   "metadata": {},
   "outputs": [
    {
     "data": {
      "image/png": "[encoded data removed]",
      "text/plain": [
       "<matplotlib.figure.Figure at 0x24ee4ba7588>"
      ]
     },
     "metadata": {},
     "output_type": "display_data"
    }
   ],
   "source": [
    "\n",
    "x_values = np.arange(len(target_users))\n",
    "y_values = outlet_compound_trans['Compound Sentiment Total']\n",
    "plt.bar(x_values, y_values, color='b''g''r''y''c', alpha=.8, tick_label=outlet_compound_trans['Outlets'])\n",
    "plt.title(\"Outlet Twitter Sentiments 12/9/17\")\n",
    "plt.xlabel(\"Outlets\")\n",
    "plt.ylabel(\"Compound Sentiments\")\n",
    "plt.savefig(\"SocialAPI_BarPlot.png\")\n",
    "plt.show()"
   ]
  },
  {
   "cell_type": "code",
   "execution_count": null,
   "metadata": {
    "collapsed": true
   },
   "outputs": [],
   "source": []
  }
 ],
 "metadata": {
  "kernelspec": {
   "display_name": "Python [conda env:PythonData]",
   "language": "python",
   "name": "conda-env-PythonData-py"
  },
  "language_info": {
   "codemirror_mode": {
    "name": "ipython",
    "version": 3
   },
   "file_extension": ".py",
   "mimetype": "text/x-python",
   "name": "python",
   "nbconvert_exporter": "python",
   "pygments_lexer": "ipython3",
   "version": "3.6.1"
  }
 },
 "nbformat": 4,
 "nbformat_minor": 2
}
